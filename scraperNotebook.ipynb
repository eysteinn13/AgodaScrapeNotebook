{
 "cells": [
  {
   "cell_type": "code",
   "execution_count": 39,
   "metadata": {
    "collapsed": true
   },
   "outputs": [
    {
     "name": "stdout",
     "output_type": "stream",
     "text": [
      "Done\n"
     ]
    }
   ],
   "source": [
    "# imports pip install beautifulsoup4 requests\n",
    "from bs4 import BeautifulSoup\n",
    "import requests\n",
    "from selenium import webdriver\n",
    "import time\n",
    "print('Done')\n"
   ]
  },
  {
   "cell_type": "code",
   "execution_count": 46,
   "metadata": {},
   "outputs": [
    {
     "name": "stdout",
     "output_type": "stream",
     "text": [
      "Done\n"
     ]
    }
   ],
   "source": [
    "# Init the soup to the content of some hotel\n",
    "url = \"https://www.agoda.com/phuket-airport-overnight-hotel/hotel/phuket-th.html?checkin=2017-09-14&los\" \\\n",
    "                \"=1&adults=2&rooms=1&cid=-207&searchrequestid=6bf0ef95-c6e5-4548-8baa-77e8577e65bd \"\n",
    "\n",
    "driver = webdriver.Firefox()\n",
    "driver.get(url)\n",
    "time.sleep(30)\n",
    "htmlSource = driver.page_source\n",
    "#r = requests.get(url)\n",
    "#content = r.text\n",
    "#soup = BeautifulSoup(content, \"html5lib\")\n",
    "soup = BeautifulSoup(htmlSource, \"html5lib\")\n",
    "#print(soup.prettify())\n",
    "print('Done')"
   ]
  },
  {
   "cell_type": "code",
   "execution_count": 48,
   "metadata": {},
   "outputs": [
    {
     "name": "stdout",
     "output_type": "stream",
     "text": [
      "<div class=\"sub-section individual-review-item\" data-id=\"119275822\" data-individual-review=\"\" data-locale=\"en-us\" data-selenium=\"individual-review-section\" id=\"review-119275822\">\n    <div class=\"col-xs-3 review-info\" data-selenium=\"reviewer-detail\">\n        <div class=\"comment-score\">\n            <span data-selenium=\"individual-review-rate\">9.6</span>\n        </div>\n        <div data-selenium=\"reviewer-name\">\n                \n                    <i class=\"flag flag-16 flag-16-us\"></i>\n                        <span class=\"reviewer-name\" name=\"reviewer-name\">\n                            <strong>David</strong> from United States\n                        </span>\n                \n        </div>\n        <div data-selenium=\"reviewer-traveller-type\">\n            <i class=\"ficon ficon-14 ficon-luggage\"></i>\n            <span>Couple</span>\n        </div>\n            <div data-selenium=\"review-roomtype\">\n                <i class=\"ficon ficon-14 ficon-map-room\"></i>\n                <span>Overnight Fan Suite</span>\n            </div>\n                    <div data-selenium=\"reviewer-stay-detail\">\n                <i class=\"ficon ficon-14 ficon-length-of-stay\"></i>\n                <span>\n                        Stayed 1 night in August 2017\n                </span>\n            </div>\n    </div>\n    <div class=\"col-xs-9 nopadding-right\">\n        <div class=\"review-comment-bubble\" data-comment-item-detail=\"\" data-selenium=\"comments-detail\">\n            <div class=\"comment-title\">\n                <div class=\"comment-title-text\" data-review-title-text=\"\" data-selenium=\"comments-title\" name=\"review-title\">Great place to stay a night”</div>\n            </div>\n\n                                        <div class=\"comment-text\" data-review-comment-text=\"\" data-selenium=\"reviews-comments\">\n                    <span>Extra 200 baht for AC is worth it. The room was super clean and all the toiletries provided that you could want. We were impressed. Arrived and 1:30am and they took us right to our room which was all set for a hot shower and to rest.</span>\n                </div>\n                            <div class=\"comment-date-only\">\n                        <div class=\"col-xs-9 comment-date\">\n                            <span data-review-date-text=\"\" data-selenium=\"review-date\" name=\"reviewdate\">Reviewed August 13, 2017</span>\n                        </div>\n                                    </div>\n        </div>\n        <div class=\"review-helpful-container\" data-review-data=\"KrGCAjUqXu7brG1PnhV7tQ==\" data-selenium=\"review-helpful-btn\" data-success-text=\"Thanks for your feedback!\">\n            <span class=\"helpful-btn-state\" data-selenium=\"review-helpful-text\">\n                        Did you find this review helpful?\n            </span>\n                <button class=\"helpful-btn\" data-helpful=\"true\" data-selenium=\"review-helpful-yes\">YES</button>\n                <span class=\"helpful-btn-seperator\">|</span>\n                <button class=\"helpful-btn\" data-helpful=\"false\" data-selenium=\"review-helpful-no\">NO</button>\n        </div>\n    </div>\n</div>\n"
     ]
    }
   ],
   "source": [
    "# after looking at the pages HTML we see that the div containing all information \n",
    "# for one review is \"individual-review-item\"\n",
    "# Lets look at the first div\n",
    "\n",
    "\n",
    "mydivs = soup.findAll(\"div\", {\"class\" : \"individual-review-item\"})\n",
    "first_review = mydivs[0]\n",
    "print(first_review)"
   ]
  },
  {
   "cell_type": "code",
   "execution_count": 49,
   "metadata": {},
   "outputs": [
    {
     "name": "stdout",
     "output_type": "stream",
     "text": [
      "The first reviews score is: 9.6\nExtra 200 baht for AC is worth it. The room was super clean and all the toiletries provided that you could want. We were impressed. Arrived and 1:30am and they took us right to our room which was all set for a hot shower and to rest.\n"
     ]
    }
   ],
   "source": [
    "# we see that the score is contained in <span data-selenium=\"individual-review-rate\">4.7</span>\n",
    "# and the review in <div class=\"comment-text\" data-review-comment-text=\"\" data-selenium=\"reviews-comments\">\n",
    "# There is more information here but lets begin with this\n",
    "\n",
    "first_review_score = first_review.findAll(\"div\", {\"class\" : \"comment-score\"})[0].text\n",
    "print(\"The first reviews score is: {0}\".format(float(first_review_score.strip())))\n",
    "\n",
    "first_review_text = first_review.findAll(\"div\", {\"class\" : \"comment-text\"})[0].text\n",
    "\n",
    "print(first_review_text.strip())"
   ]
  },
  {
   "cell_type": "code",
   "execution_count": 52,
   "metadata": {},
   "outputs": [
    {
     "name": "stdout",
     "output_type": "stream",
     "text": [
      "Found 10 reviews\n[('9.6', 'Extra 200 baht for AC is worth it. The room was super clean and all the toiletries provided that you could want. We were impressed. Arrived and 1:30am and they took us right to our room which was all set for a hot shower and to rest.'), ('9.2', 'I stayed here cause my flight was early in the morning and this hotel is just 5 min walk away from the airport. \\nThe room was really good. Clean, quiet (as quiet it can be near an airport) and the staff was very friendly. I would stay here again and recommend this place to stay if you need to be fast at the airport.'), ('6.4', 'not many choice that can go airport by walk.'), ('9.6', '=)'), ('6.4', 'Fine to stay for a couple of hours before mid night flight'), ('8.0', 'Near the airport hotel, stay one night is good.\\n5-10 mins to airport.\\nClean.'), ('8.8', 'Airport is a 5 minute walk.\\nEooms are clean and functional.\\nThere is a freezer and a fan for the night.\\nThank you :)'), ('8.4', \"Short walk from the airport, but dogs out on the street at night. Good if you're just looking for a place to spend the night.\"), ('10.0', 'Nice staff, nice little garden, good room, good price, good location.'), ('10.0', 'good location')]\n"
     ]
    }
   ],
   "source": [
    "# Ok finding one review was easy. Not lets do it for all reviews on the page\n",
    "# mydivs still contains all reviews.\n",
    "\n",
    "all_review_pairs = []\n",
    "for review_item in mydivs:\n",
    "    try:\n",
    "        review_score = review_item.findAll(\"div\", {\"class\": \"comment-score\"})[0].text.strip()\n",
    "        review_text = review_item.findAll(\"div\", {\"class\": \"comment-text\"})[0].text.strip()\n",
    "        all_review_pairs.append((review_score, review_text))\n",
    "    except Exception as e:\n",
    "        pass\n",
    "    \n",
    "# print first 10 reviews to see if this works.\n",
    "print(\"Found {} reviews\".format(len(all_review_pairs)))\n",
    "print(all_review_pairs)"
   ]
  },
  {
   "cell_type": "code",
   "execution_count": 53,
   "metadata": {},
   "outputs": [],
   "source": [
    "# This seems to work. It only finds 20 reviews though.\n",
    "# Next step would be to find a way to generate more reviews on each page\n",
    "# or to move to the next page.\n"
   ]
  },
  {
   "cell_type": "code",
   "execution_count": null,
   "metadata": {},
   "outputs": [],
   "source": []
  }
 ],
 "metadata": {
  "kernelspec": {
   "display_name": "Python 2",
   "language": "python",
   "name": "python2"
  },
  "language_info": {
   "codemirror_mode": {
    "name": "ipython",
    "version": 2
   },
   "file_extension": ".py",
   "mimetype": "text/x-python",
   "name": "python",
   "nbconvert_exporter": "python",
   "pygments_lexer": "ipython2",
   "version": "2.7.6"
  }
 },
 "nbformat": 4,
 "nbformat_minor": 0
}

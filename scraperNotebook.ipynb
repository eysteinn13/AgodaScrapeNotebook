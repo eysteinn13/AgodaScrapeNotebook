{
 "cells": [
  {
   "cell_type": "code",
   "execution_count": 1,
   "metadata": {
    "collapsed": true
   },
   "outputs": [
    {
     "name": "stdout",
     "output_type": "stream",
     "text": [
      "Done\n"
     ]
    }
   ],
   "source": [
    "# imports pip install beautifulsoup4 requests\n",
    "from bs4 import BeautifulSoup\n",
    "import requests\n",
    "print('Done')\n"
   ]
  },
  {
   "cell_type": "code",
   "execution_count": 2,
   "metadata": {},
   "outputs": [
    {
     "name": "stdout",
     "output_type": "stream",
     "text": [
      "Done\n"
     ]
    }
   ],
   "source": [
    "# Init the soup to the content of some hotel\n",
    "url = \"https://www.agoda.com/phuket-airport-overnight-hotel/hotel/phuket-th.html?checkin=2017-09-14&los\" \\\n",
    "                \"=1&adults=2&rooms=1&cid=-207&searchrequestid=6bf0ef95-c6e5-4548-8baa-77e8577e65bd \"\n",
    "r = requests.get(url)\n",
    "content = r.text\n",
    "soup = BeautifulSoup(content, \"html5lib\")\n",
    "\n",
    "print('Done')"
   ]
  },
  {
   "cell_type": "code",
   "execution_count": 8,
   "metadata": {},
   "outputs": [
    {
     "name": "stdout",
     "output_type": "stream",
     "text": [
      "<div class=\"sub-section individual-review-item\" data-id=\"2217850\" data-individual-review=\"\" data-locale=\"en-us\" data-selenium=\"individual-review-section\" id=\"review-2217850\">\n    <div class=\"col-xs-3 review-info\" data-selenium=\"reviewer-detail\">\n        <div class=\"comment-score\">\n            <span data-selenium=\"individual-review-rate\">4.7</span>\n        </div>\n        <div data-selenium=\"reviewer-name\">\n                \n                    <i class=\"flag flag-16 flag-16-us\"></i>\n                        <span class=\"reviewer-name\" name=\"reviewer-name\">\n                            <strong>Travis</strong> from United States\n                        </span>\n                \n        </div>\n        <div data-selenium=\"reviewer-traveller-type\">\n            <i class=\"ficon ficon-14 ficon-luggage\"></i>\n            <span>Solo traveler</span>\n        </div>\n            <div data-selenium=\"review-roomtype\">\n                <i class=\"ficon ficon-14 ficon-map-room\"></i>\n                <span>Overnight Suite</span>\n            </div>\n                    <div data-selenium=\"reviewer-stay-detail\">\n                <i class=\"ficon ficon-14 ficon-length-of-stay\"></i>\n                <span>\n                        Stayed 1 night in March 2012\n                </span>\n            </div>\n    </div>\n    <div class=\"col-xs-9 nopadding-right\">\n        <div class=\"review-comment-bubble\" data-comment-item-detail=\"\" data-selenium=\"comments-detail\">\n            <div class=\"comment-title\">\n                <div class=\"comment-title-text\" data-review-title-text=\"\" data-selenium=\"comments-title\" name=\"review-title\">Would not go back ”</div>\n            </div>\n\n                <div class=\"comment-icon\" data-review-positive-text=\"\" data-selenium=\"positive-comment\">\n                    <i class=\"ficon ficon-16 ficon-balloon-plus comment-positive\" data-selenium=\"positive-comment-icon\"></i>\n                    <span>Nice rooms </span>\n                </div>\n                                        <div class=\"comment-text\" data-review-comment-text=\"\" data-selenium=\"reviews-comments\">\n                    <span>The place has nice rooms but thats about it. It says that it has a bar, restaurant, and a coffee shop but, it doesn't have any of these things. Its also a far walk to any restaurants. The place was clean but i was disappointed esp for the price! They don't even sell sodas. There a sign that says bar and an empty fridge thats about it. For the money they charge defiantly a rip off. You can stay somewhere with much more amenities for the same price or cheaper. Its basically just a room far from food. A taxi would be fine but none come down the street as its a little side street. All it has going for it is the it is very close to the airport. </span>\n                </div>\n                            <div class=\"comment-date-only\">\n                        <div class=\"col-xs-9 comment-date\">\n                            <span data-review-date-text=\"\" data-selenium=\"review-date\" name=\"reviewdate\">Reviewed March 08, 2012</span>\n                        </div>\n                                    </div>\n        </div>\n        <div class=\"review-helpful-container\" data-review-data=\"3LCW6F7GLuMqZLTv9V2XiQ==\" data-selenium=\"review-helpful-btn\" data-success-text=\"Thanks for your feedback!\">\n            <span class=\"helpful-btn-state\" data-selenium=\"review-helpful-text\">\n                        Did you find this review helpful?\n            </span>\n                <button class=\"helpful-btn\" data-helpful=\"true\" data-selenium=\"review-helpful-yes\">YES</button>\n                <span class=\"helpful-btn-seperator\">|</span>\n                <button class=\"helpful-btn\" data-helpful=\"false\" data-selenium=\"review-helpful-no\">NO</button>\n        </div>\n    </div>\n</div>\n"
     ]
    }
   ],
   "source": [
    "# after looking at the pages HTML we see that the div containing all information \n",
    "# for one review is \"individual-review-item\"\n",
    "# Lets look at the first div\n",
    "\n",
    "\n",
    "mydivs = soup.findAll(\"div\", {\"class\" : \"individual-review-item\"})\n",
    "first_review = mydivs[0]\n",
    "print(first_review)"
   ]
  },
  {
   "cell_type": "code",
   "execution_count": 9,
   "metadata": {},
   "outputs": [
    {
     "name": "stdout",
     "output_type": "stream",
     "text": [
      "The first reviews score is: 4.7\nThe place has nice rooms but thats about it. It says that it has a bar, restaurant, and a coffee shop but, it doesn't have any of these things. Its also a far walk to any restaurants. The place was clean but i was disappointed esp for the price! They don't even sell sodas. There a sign that says bar and an empty fridge thats about it. For the money they charge defiantly a rip off. You can stay somewhere with much more amenities for the same price or cheaper. Its basically just a room far from food. A taxi would be fine but none come down the street as its a little side street. All it has going for it is the it is very close to the airport.\n"
     ]
    }
   ],
   "source": [
    "# we see that the score is contained in <span data-selenium=\"individual-review-rate\">4.7</span>\n",
    "# and the review in <div class=\"comment-text\" data-review-comment-text=\"\" data-selenium=\"reviews-comments\">\n",
    "# There is more information here but lets begin with this\n",
    "\n",
    "first_review_score = first_review.findAll(\"div\", {\"class\" : \"comment-score\"})[0].text\n",
    "print(\"The first reviews score is: {0}\".format(float(first_review_score.strip())))\n",
    "\n",
    "first_review_text = first_review.findAll(\"div\", {\"class\" : \"comment-text\"})[0].text\n",
    "\n",
    "print(first_review_text.strip())"
   ]
  },
  {
   "cell_type": "code",
   "execution_count": 22,
   "metadata": {},
   "outputs": [
    {
     "name": "stdout",
     "output_type": "stream",
     "text": [
      "Found 10 reviews\n[('4.7', \"The place has nice rooms but thats about it. It says that it has a bar, restaurant, and a coffee shop but, it doesn't have any of these things. Its also a far walk to any restaurants. The place was clean but i was disappointed esp for the price! They don't even sell sodas. There a sign that says bar and an empty fridge thats about it. For the money they charge defiantly a rip off. You can stay somewhere with much more amenities for the same price or cheaper. Its basically just a room far from food. A taxi would be fine but none come down the street as its a little side street. All it has going for it is the it is very close to the airport.\"), ('8.3', \"nice and close to the airport which was perfect for an early morning flight. rooms nice size and very comfortable, although next time i'd choose a air con room. very freindly and felt safe when travelling on my own.\"), ('8.3', 'The hotel is within easy walking distance of teh airport and Simon, the ownwer, is very willing to take/collect guests at any time.  The room was comforatble and the shower had plenty of hot water.  Local restuarants are about a 15 min walk away. \\n\\nWe had to get to the airport at 4.30 am and were quite confident that Simon would be ready to transport us.'), ('10.0', 'the hotel is a 2 min walk from the airport, very new building, super clean, tea, coffee, everything you need for an overnight stay and very comfortable bed.'), ('8.3', 'We arrive the Phuket airport at mid-night, the driver pick us at airport on time. He is so nice to drive us to nearly mini-mart to buy some stuff before check-in at hotel.\\n\\nThe room is simple, clean and neat. Environment and Bed is comfortable. Although the electricity and water supply is unstable, overall is ok.'), ('7.7', \"Upon arriving at the Hotel, I was greeted with friendly staff who showed me all the amenities available in my room. I had the deluxe aircon room and was very pleased with it. Although the location is away from everything touristy in Phuket, I didn't mind because it was just a place to stay for the night because my next flight was in the morning. The room was very clean and comfortable with a big bed, TV, really cool aircon, and a very nice bathroom. The shower was the best I'd had after nearly a month of backpacking...I was pretty impressed. One of the staff gave us a tuktuk ride to the beach for dinner and then came back and picked us up for about 100B. My flight the next morning was at 6:45AM so I asked the shuttle driver if he could take me to the airport around 5AM and it was no problem for him.\\n\\nOverally, a very nice stay and highly recommended for someone who is just passing through Phuket and needs a nice, clean, and comfortable place to stay after a long month of living in sub-par hostels!\"), ('7.3', \"Small hotel close to the airport. It's close but tricky to find (down a dark, quiet drive) so if you are arriving at night, it might be good to have a taxi bring you or perhaps even ask for them to come and collect you. The owner was friendly but tired, with guests arriving at all hours. Rooms look ok and are clean and comfortable. Place is built so that the rooms are facing an inner courtyard. Very safe. Rooms have a large, wall-mounted TV with plenty of English channels, wifi in room, terrific shower, kettle with coffee and tea and we booked a fan room but were upgraded to air con. Bed is super comfortable. Not much to do in the area so this is really just for those that are arriving late or have an early flight and don't want to commute an hour or more into Phuket. For those looking for somewhere to overnight, I highly recommend Airport Overnight Hotel.\"), ('5.7', 'hotel is not on the main road, so get the taxi driver is call the hotel if he doesnt know where it is, otherwise you could be driving around for awhile as its in a back street but only 5 mins walk to airort. didnt relised we booked a (fan only] room so would of been abit more comfortable and less noisey if we were in a a/c room but other then that, was clean,value for money, and has a free airort drop off even if its middle of the night/morning. our fan suite had a reasonablly good size room/bed, bathroom,toilet, flat screen tv, complementry bottles of water on arrival,tea/coffee facilities. older style building.'), ('6.0', 'basic room, no real ammenities, but conveniant to the airport if just for one night...'), ('7.0', 'The room privacy and cleanliness are well-rated for this hotel. The only drawback might be the difficulty to find the location by foot, since the signboards are lacking along the way from Airport-Hotel. I love the feather blanket a lot, it keeps me warm at night!')]\n"
     ]
    }
   ],
   "source": [
    "# Ok finding one review was easy. Not lets do it for all reviews on the page\n",
    "# mydivs still contains all reviews.\n",
    "\n",
    "all_review_pairs = []\n",
    "for review_item in mydivs:\n",
    "    try:\n",
    "        review_score = review_item.findAll(\"div\", {\"class\": \"comment-score\"})[0].text.strip()\n",
    "        review_text = review_item.findAll(\"div\", {\"class\": \"comment-text\"})[0].text.strip()\n",
    "        all_review_pairs.append((review_score, review_text))\n",
    "    except Exception as e:\n",
    "        pass\n",
    "    \n",
    "# print first 10 reviews to see if this works.\n",
    "print(\"Found {} reviews\".format(len(all_review_pairs)))\n",
    "print(all_review_pairs)"
   ]
  },
  {
   "cell_type": "code",
   "execution_count": 52,
   "metadata": {},
   "outputs": [],
   "source": [
    "# This seems to work. It only finds 20 reviews though.\n",
    "# Next step would be to find a way to generate more reviews on each page\n",
    "# or to move to the next page.\n"
   ]
  },
  {
   "cell_type": "code",
   "execution_count": null,
   "metadata": {},
   "outputs": [],
   "source": []
  }
 ],
 "metadata": {
  "kernelspec": {
   "display_name": "Python 2",
   "language": "python",
   "name": "python2"
  },
  "language_info": {
   "codemirror_mode": {
    "name": "ipython",
    "version": 2
   },
   "file_extension": ".py",
   "mimetype": "text/x-python",
   "name": "python",
   "nbconvert_exporter": "python",
   "pygments_lexer": "ipython2",
   "version": "2.7.6"
  }
 },
 "nbformat": 4,
 "nbformat_minor": 0
}

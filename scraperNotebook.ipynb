{
 "cells": [
  {
   "cell_type": "code",
   "execution_count": 1,
   "metadata": {
    "collapsed": true
   },
   "outputs": [
    {
     "name": "stdout",
     "output_type": "stream",
     "text": [
      "Done\n"
     ]
    }
   ],
   "source": [
    "# imports pip install beautifulsoup4 requests\n",
    "from bs4 import BeautifulSoup\n",
    "import requests\n",
    "print('Done')\n"
   ]
  },
  {
   "cell_type": "code",
   "execution_count": 16,
   "metadata": {},
   "outputs": [
    {
     "name": "stdout",
     "output_type": "stream",
     "text": [
      "Done\n"
     ]
    }
   ],
   "source": [
    "# Init the soup to the content of some hotel\n",
    "url = \"https://www.agoda.com/phuket-airport-overnight-hotel/hotel/phuket-th.html?checkin=2017-09-14&los\" \\\n",
    "                \"=1&adults=2&rooms=1&cid=-207&searchrequestid=6bf0ef95-c6e5-4548-8baa-77e8577e65bd \"\n",
    "r = requests.get(url)\n",
    "content = r.text\n",
    "soup = BeautifulSoup(content, \"html5lib\")\n",
    "\n",
    "print('Done')"
   ]
  },
  {
   "cell_type": "code",
   "execution_count": 17,
   "metadata": {},
   "outputs": [
    {
     "name": "stdout",
     "output_type": "stream",
     "text": [
      "<div class=\"sub-section individual-review-item\" data-id=\"2217850\" data-individual-review=\"\" data-locale=\"en-us\" data-selenium=\"individual-review-section\" id=\"review-2217850\">\n",
      "    <div class=\"col-xs-3 review-info\" data-selenium=\"reviewer-detail\">\n",
      "        <div class=\"comment-score\">\n",
      "            <span data-selenium=\"individual-review-rate\">4.7</span>\n",
      "        </div>\n",
      "        <div data-selenium=\"reviewer-name\">\n",
      "                \n",
      "                    <i class=\"flag flag-16 flag-16-us\"></i>\n",
      "                        <span class=\"reviewer-name\" name=\"reviewer-name\">\n",
      "                            <strong>Travis</strong> from United States\n",
      "                        </span>\n",
      "                \n",
      "        </div>\n",
      "        <div data-selenium=\"reviewer-traveller-type\">\n",
      "            <i class=\"ficon ficon-14 ficon-luggage\"></i>\n",
      "            <span>Solo traveler</span>\n",
      "        </div>\n",
      "            <div data-selenium=\"review-roomtype\">\n",
      "                <i class=\"ficon ficon-14 ficon-map-room\"></i>\n",
      "                <span>Overnight Suite</span>\n",
      "            </div>\n",
      "                    <div data-selenium=\"reviewer-stay-detail\">\n",
      "                <i class=\"ficon ficon-14 ficon-length-of-stay\"></i>\n",
      "                <span>\n",
      "                        Stayed 1 night in March 2012\n",
      "                </span>\n",
      "            </div>\n",
      "    </div>\n",
      "    <div class=\"col-xs-9 nopadding-right\">\n",
      "        <div class=\"review-comment-bubble\" data-comment-item-detail=\"\" data-selenium=\"comments-detail\">\n",
      "            <div class=\"comment-title\">\n",
      "                <div class=\"comment-title-text\" data-review-title-text=\"\" data-selenium=\"comments-title\" name=\"review-title\">Would not go back ”</div>\n",
      "            </div>\n",
      "\n",
      "                <div class=\"comment-icon\" data-review-positive-text=\"\" data-selenium=\"positive-comment\">\n",
      "                    <i class=\"ficon ficon-16 ficon-balloon-plus comment-positive\" data-selenium=\"positive-comment-icon\"></i>\n",
      "                    <span>Nice rooms </span>\n",
      "                </div>\n",
      "                                        <div class=\"comment-text\" data-review-comment-text=\"\" data-selenium=\"reviews-comments\">\n",
      "                    <span>The place has nice rooms but thats about it. It says that it has a bar, restaurant, and a coffee shop but, it doesn't have any of these things. Its also a far walk to any restaurants. The place was clean but i was disappointed esp for the price! They don't even sell sodas. There a sign that says bar and an empty fridge thats about it. For the money they charge defiantly a rip off. You can stay somewhere with much more amenities for the same price or cheaper. Its basically just a room far from food. A taxi would be fine but none come down the street as its a little side street. All it has going for it is the it is very close to the airport. </span>\n",
      "                </div>\n",
      "                            <div class=\"comment-date-only\">\n",
      "                        <div class=\"col-xs-9 comment-date\">\n",
      "                            <span data-review-date-text=\"\" data-selenium=\"review-date\" name=\"reviewdate\">Reviewed March 08, 2012</span>\n",
      "                        </div>\n",
      "                                    </div>\n",
      "        </div>\n",
      "        <div class=\"review-helpful-container\" data-review-data=\"3LCW6F7GLuMqZLTv9V2XiQ==\" data-selenium=\"review-helpful-btn\" data-success-text=\"Thanks for your feedback!\">\n",
      "            <span class=\"helpful-btn-state\" data-selenium=\"review-helpful-text\">\n",
      "                        Did you find this review helpful?\n",
      "            </span>\n",
      "                <button class=\"helpful-btn\" data-helpful=\"true\" data-selenium=\"review-helpful-yes\">YES</button>\n",
      "                <span class=\"helpful-btn-seperator\">|</span>\n",
      "                <button class=\"helpful-btn\" data-helpful=\"false\" data-selenium=\"review-helpful-no\">NO</button>\n",
      "        </div>\n",
      "    </div>\n",
      "</div>\n"
     ]
    }
   ],
   "source": [
    "# after looking at the pages HTML we see that the div containing all information \n",
    "# for one review is \"individual-review-item\"\n",
    "# Lets look at the first div\n",
    "\n",
    "\n",
    "mydivs = soup.findAll(\"div\", {\"class\" : \"individual-review-item\"})\n",
    "first_review = mydivs[0]\n",
    "print(first_review)"
   ]
  },
  {
   "cell_type": "code",
   "execution_count": 46,
   "metadata": {},
   "outputs": [
    {
     "name": "stdout",
     "output_type": "stream",
     "text": [
      "The first reviews score is: 4.7\n",
      "The place has nice rooms but thats about it. It says that it has a bar, restaurant, and a coffee shop but, it doesn't have any of these things. Its also a far walk to any restaurants. The place was clean but i was disappointed esp for the price! They don't even sell sodas. There a sign that says bar and an empty fridge thats about it. For the money they charge defiantly a rip off. You can stay somewhere with much more amenities for the same price or cheaper. Its basically just a room far from food. A taxi would be fine but none come down the street as its a little side street. All it has going for it is the it is very close to the airport.\n"
     ]
    }
   ],
   "source": [
    "# we see that the score is contained in <span data-selenium=\"individual-review-rate\">4.7</span>\n",
    "# and the review in <div class=\"comment-text\" data-review-comment-text=\"\" data-selenium=\"reviews-comments\">\n",
    "# There is more information here but lets begin with this\n",
    "\n",
    "first_review_score = first_review.findAll(\"div\", {\"class\" : \"comment-score\"})[0].text\n",
    "print(\"The first reviews score is: {0}\".format(float(first_score.strip())))\n",
    "\n",
    "first_review_text = first_review.findAll(\"div\", {\"class\" : \"comment-text\"})[0].text\n",
    "\n",
    "print(first_review_text.strip())"
   ]
  },
  {
   "cell_type": "code",
   "execution_count": 52,
   "metadata": {},
   "outputs": [
    {
     "name": "stdout",
     "output_type": "stream",
     "text": [
      "Found 20 reviews\n",
      "[('4.7', \"The place has nice rooms but thats about it. It says that it has a bar, restaurant, and a coffee shop but, it doesn't have any of these things. Its also a far walk to any restaurants. The place was clean but i was disappointed esp for the price! They don't even sell sodas. There a sign that says bar and an empty fridge thats about it. For the money they charge defiantly a rip off. You can stay somewhere with much more amenities for the same price or cheaper. Its basically just a room far from food. A taxi would be fine but none come down the street as its a little side street. All it has going for it is the it is very close to the airport.\"), ('4.7', \"The place has nice rooms but thats about it. It says that it has a bar, restaurant, and a coffee shop but, it doesn't have any of these things. Its also a far walk to any restaurants. The place was clean but i was disappointed esp for the price! They don't even sell sodas. There a sign that says bar and an empty fridge thats about it. For the money they charge defiantly a rip off. You can stay somewhere with much more amenities for the same price or cheaper. Its basically just a room far from food. A taxi would be fine but none come down the street as its a little side street. All it has going for it is the it is very close to the airport.\"), ('4.7', \"The place has nice rooms but thats about it. It says that it has a bar, restaurant, and a coffee shop but, it doesn't have any of these things. Its also a far walk to any restaurants. The place was clean but i was disappointed esp for the price! They don't even sell sodas. There a sign that says bar and an empty fridge thats about it. For the money they charge defiantly a rip off. You can stay somewhere with much more amenities for the same price or cheaper. Its basically just a room far from food. A taxi would be fine but none come down the street as its a little side street. All it has going for it is the it is very close to the airport.\"), ('4.7', \"The place has nice rooms but thats about it. It says that it has a bar, restaurant, and a coffee shop but, it doesn't have any of these things. Its also a far walk to any restaurants. The place was clean but i was disappointed esp for the price! They don't even sell sodas. There a sign that says bar and an empty fridge thats about it. For the money they charge defiantly a rip off. You can stay somewhere with much more amenities for the same price or cheaper. Its basically just a room far from food. A taxi would be fine but none come down the street as its a little side street. All it has going for it is the it is very close to the airport.\"), ('4.7', \"The place has nice rooms but thats about it. It says that it has a bar, restaurant, and a coffee shop but, it doesn't have any of these things. Its also a far walk to any restaurants. The place was clean but i was disappointed esp for the price! They don't even sell sodas. There a sign that says bar and an empty fridge thats about it. For the money they charge defiantly a rip off. You can stay somewhere with much more amenities for the same price or cheaper. Its basically just a room far from food. A taxi would be fine but none come down the street as its a little side street. All it has going for it is the it is very close to the airport.\"), ('4.7', \"The place has nice rooms but thats about it. It says that it has a bar, restaurant, and a coffee shop but, it doesn't have any of these things. Its also a far walk to any restaurants. The place was clean but i was disappointed esp for the price! They don't even sell sodas. There a sign that says bar and an empty fridge thats about it. For the money they charge defiantly a rip off. You can stay somewhere with much more amenities for the same price or cheaper. Its basically just a room far from food. A taxi would be fine but none come down the street as its a little side street. All it has going for it is the it is very close to the airport.\"), ('4.7', \"The place has nice rooms but thats about it. It says that it has a bar, restaurant, and a coffee shop but, it doesn't have any of these things. Its also a far walk to any restaurants. The place was clean but i was disappointed esp for the price! They don't even sell sodas. There a sign that says bar and an empty fridge thats about it. For the money they charge defiantly a rip off. You can stay somewhere with much more amenities for the same price or cheaper. Its basically just a room far from food. A taxi would be fine but none come down the street as its a little side street. All it has going for it is the it is very close to the airport.\"), ('4.7', \"The place has nice rooms but thats about it. It says that it has a bar, restaurant, and a coffee shop but, it doesn't have any of these things. Its also a far walk to any restaurants. The place was clean but i was disappointed esp for the price! They don't even sell sodas. There a sign that says bar and an empty fridge thats about it. For the money they charge defiantly a rip off. You can stay somewhere with much more amenities for the same price or cheaper. Its basically just a room far from food. A taxi would be fine but none come down the street as its a little side street. All it has going for it is the it is very close to the airport.\"), ('4.7', \"The place has nice rooms but thats about it. It says that it has a bar, restaurant, and a coffee shop but, it doesn't have any of these things. Its also a far walk to any restaurants. The place was clean but i was disappointed esp for the price! They don't even sell sodas. There a sign that says bar and an empty fridge thats about it. For the money they charge defiantly a rip off. You can stay somewhere with much more amenities for the same price or cheaper. Its basically just a room far from food. A taxi would be fine but none come down the street as its a little side street. All it has going for it is the it is very close to the airport.\"), ('4.7', \"The place has nice rooms but thats about it. It says that it has a bar, restaurant, and a coffee shop but, it doesn't have any of these things. Its also a far walk to any restaurants. The place was clean but i was disappointed esp for the price! They don't even sell sodas. There a sign that says bar and an empty fridge thats about it. For the money they charge defiantly a rip off. You can stay somewhere with much more amenities for the same price or cheaper. Its basically just a room far from food. A taxi would be fine but none come down the street as its a little side street. All it has going for it is the it is very close to the airport.\")]\n"
     ]
    }
   ],
   "source": [
    "# Ok finding one review was easy. Not lets do it for all reviews on the page\n",
    "# mydivs still contains all reviews.\n",
    "\n",
    "all_review_pairs = []\n",
    "for review_item in mydivs:\n",
    "    review_score = first_review.findAll(\"div\", {\"class\" : \"comment-score\"})[0].text.strip()\n",
    "    review_text = first_review.findAll(\"div\", {\"class\" : \"comment-text\"})[0].text.strip()\n",
    "    all_review_pairs.append((review_score, review_text))\n",
    "    \n",
    "# print first 10 reviews to see if this works.\n",
    "print(\"Found {} reviews\".format(len(all_review_pairs)))\n",
    "print(all_review_pairs[:10])"
   ]
  },
  {
   "cell_type": "code",
   "execution_count": 52,
   "metadata": {
    "collapsed": true
   },
   "outputs": [],
   "source": [
    "# This seems to work. It only finds 20 reviews though.\n",
    "# Next step would be to find a way to generate more reviews on each page\n",
    "# or to move to the next page.\n"
   ]
  },
  {
   "cell_type": "code",
   "execution_count": null,
   "metadata": {
    "collapsed": true
   },
   "outputs": [],
   "source": []
  }
 ],
 "metadata": {
  "kernelspec": {
   "display_name": "Python 3",
   "language": "python",
   "name": "python3"
  },
  "language_info": {
   "codemirror_mode": {
    "name": "ipython",
    "version": 3
   },
   "file_extension": ".py",
   "mimetype": "text/x-python",
   "name": "python",
   "nbconvert_exporter": "python",
   "pygments_lexer": "ipython3",
   "version": "3.5.4"
  }
 },
 "nbformat": 4,
 "nbformat_minor": 1
}
